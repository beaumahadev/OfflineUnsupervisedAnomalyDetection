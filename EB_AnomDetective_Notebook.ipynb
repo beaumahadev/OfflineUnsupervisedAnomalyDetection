{
 "cells": [
  {
   "cell_type": "markdown",
   "metadata": {},
   "source": [
    "## Goal:\n",
    "Search for anomalies in Store Friendly data with unsupervised learning (no labeled data).\n",
    "## References:\n",
    "**Methods and categories of anomaly detection:** https://iwringer.wordpress.com/2015/11/17/anomaly-detection-concepts-and-techniques/\n",
    "\n",
    "**Example of IoT use case and intelligent combination of methods:** https://journalofbigdata.springeropen.com/articles/10.1186/s40537-014-0011-y\n",
    "\n",
    "**Examples of undupervised anomaly detection in python:**https://github.com/Vicam/Unsupervised_Anomaly_Detection\n"
   ]
  },
  {
   "cell_type": "code",
   "execution_count": 62,
   "metadata": {},
   "outputs": [],
   "source": [
    "# libraries, imports\n",
    "%matplotlib inline\n",
    "\n",
    "import pandas as pd\n",
    "import numpy as np\n",
    "import custom_function as cf\n",
    "\n",
    "import matplotlib\n",
    "import seaborn\n",
    "import matplotlib.dates as md\n",
    "from matplotlib import pyplot as plt\n",
    "from mpl_toolkits.axes_grid1 import host_subplot\n",
    "import mpl_toolkits.axisartist as AA\n",
    "\n",
    "from sklearn import preprocessing\n",
    "from sklearn.decomposition import PCA\n",
    "from sklearn.cluster import KMeans\n",
    "from sklearn.covariance import EllipticEnvelope\n",
    "from pyemma import msm\n",
    "from sklearn.ensemble import IsolationForest\n",
    "from sklearn.svm import OneClassSVM\n",
    "from fbprophet import Prophet\n"
   ]
  },
  {
   "cell_type": "markdown",
   "metadata": {},
   "source": [
    "# 1 Data\n",
    "## 1.1 Extract data\n",
    "\n",
    "Stored in two seperate CSVs"
   ]
  },
  {
   "cell_type": "code",
   "execution_count": 63,
   "metadata": {},
   "outputs": [],
   "source": [
    "df_temp1 = pd.read_csv(\"data/storage_temp_10min.csv\")\n",
    "df_temp2 = pd.read_csv(\"data/storage_temp_10min_2.csv\")\n",
    "\n"
   ]
  },
  {
   "cell_type": "markdown",
   "metadata": {},
   "source": [
    "## 1.2 Check the data\n"
   ]
  },
  {
   "cell_type": "code",
   "execution_count": 64,
   "metadata": {},
   "outputs": [
    {
     "name": "stdout",
     "output_type": "stream",
     "text": [
      "Loaded:\n",
      "<class 'pandas.core.frame.DataFrame'>\n",
      "RangeIndex: 19890 entries, 0 to 19889\n",
      "Data columns (total 2 columns):\n",
      "timestamp       19890 non-null object\n",
      "Self Storage    19890 non-null float64\n",
      "dtypes: float64(1), object(1)\n",
      "memory usage: 310.9+ KB\n",
      "None\n",
      "<class 'pandas.core.frame.DataFrame'>\n",
      "RangeIndex: 30770 entries, 0 to 30769\n",
      "Data columns (total 2 columns):\n",
      "timestamp       30770 non-null object\n",
      "Self Storage    30770 non-null float64\n",
      "dtypes: float64(1), object(1)\n",
      "memory usage: 480.9+ KB\n",
      "None\n"
     ]
    }
   ],
   "source": [
    "print('Loaded:')\n",
    "print(df_temp1.info())\n",
    "print(df_temp2.info())\n",
    "\n"
   ]
  },
  {
   "cell_type": "markdown",
   "metadata": {},
   "source": [
    "## 1.3 Format the data and graph the data\n",
    "\n",
    "change the type of timestamp column for plotting"
   ]
  },
  {
   "cell_type": "code",
   "execution_count": 65,
   "metadata": {},
   "outputs": [
    {
     "data": {
      "text/plain": [
       "<matplotlib.axes._subplots.AxesSubplot at 0x7f0acc570a90>"
      ]
     },
     "execution_count": 68,
     "metadata": {},
     "output_type": "execute_result"
    },
    {
     "data": {
      "image/png": "[encoded data removed]",
      "text/plain": [
       "<Figure size 432x288 with 1 Axes>"
      ]
     },
     "metadata": {
      "needs_background": "dark"
     },
     "output_type": "display_data"
    }
   ],
   "source": [
    "df_temp1[timeStamp] = pd.to_datetime(df_temp1[timeStamp])\n",
    "df_temp2[timeStamp] = pd.to_datetime(df_temp2[timeStamp])\n",
    "\n",
    "\n",
    "#combine data into one data frame\n",
    "frames = [df_temp1, df_temp2]\n",
    "df_temp = pd.concat(frames).reset_index(drop=True)\n",
    "\n",
    "# change fahrenheit to °C (temperature mean= 71 -> fahrenheit)\n",
    "df_temp[dataValues] = (df_temp[dataValues] - 32) * 5/9\n",
    "\n",
    "# plot the data\n",
    "df_temp.plot(x=timeStamp, y=dataValues)\n",
    "\n",
    "\n"
   ]
  },
  {
   "cell_type": "markdown",
   "metadata": {},
   "source": [
    "## 1.4 Important Features\n",
    "What is important to understand fluctuations? Open hours? Weekdays? Weekends?\n",
    "Storefriendly is always open, but seasons might be useful to understand temperature\n",
    "\n",
    "\n",
    "extract info for the months"
   ]
  },
  {
   "cell_type": "code",
   "execution_count": 66,
   "metadata": {},
   "outputs": [
    {
     "data": {
      "image/png": "[encoded data removed]",
      "text/plain": [
       "<Figure size 432x288 with 1 Axes>"
      ]
     },
     "metadata": {
      "needs_background": "dark"
     },
     "output_type": "display_data"
    }
   ],
   "source": [
    "df_temp['month'] = df_temp[timeStamp].dt.month\n",
    "#translate that into seasons\n",
    "df_temp['season'] = ((np.floor(df_temp['month']/3))%4).astype(int)\n",
    "\n",
    "seasonNames= [\"winter\",\"spring\",\"summer\",\"fall\"]\n",
    "\n",
    "# histogram of season values\n",
    "fig, ax = plt.subplots()\n",
    "for i in range(0,4):\n",
    "    df_season=df_temp.loc[df_temp['season']==i, dataValues]\n",
    "    height, bins = np.histogram(df_season)\n",
    "    ax.bar(bins[:-1], height*100/df_season.count(), width= .25, label= seasonNames[i])\n",
    "\n",
    "\n",
    "plt.legend()\n",
    "plt.show()"
   ]
  },
  {
   "cell_type": "markdown",
   "metadata": {},
   "source": [
    "It seems that Season is a useful feature, as temperatures of different seasons are grouped together.\n",
    "\n",
    "Enconde season as a feature vector. We will add 4 columns to the dataframe for the seasons\n",
    "if the datapoint is in the season then 1 else 0\n"
   ]
  },
  {
   "cell_type": "code",
   "execution_count": 67,
   "metadata": {},
   "outputs": [],
   "source": [
    "for j in range(0,4):\n",
    "    df_temp[seasonNames[j]]= (df_temp['season']==j).astype(int)\n"
   ]
  },
  {
   "cell_type": "markdown",
   "metadata": {},
   "source": [
    "# 2 Models\n",
    "## 2.1 Cluster only\n",
    "#### Use for collective anomalies (unordered).\n",
    "\n",
    "K-means is a simple unsupervised machine learning algorithm that groups a dataset into a user-specified number (k) of clusters.\n",
    "The algorithm is somewhat naive--it clusters the data into k clusters, even if k is not the right number of clusters to use.\n",
    "Therefore, when using k-means clustering, users need some way to determine whether they are using the right number of clusters."
   ]
  },
  {
   "cell_type": "markdown",
   "metadata": {},
   "source": [
    "Some algorithms require us to make a guess as to the precentage of outliers"
   ]
  },
  {
   "cell_type": "code",
   "execution_count": 68,
   "metadata": {},
   "outputs": [
    {
     "name": "stderr",
     "output_type": "stream",
     "text": [
      "/home/beau/anaconda3/lib/python3.6/site-packages/sklearn/preprocessing/data.py:625: DataConversionWarning: Data with input dtype int64, float64 were all converted to float64 by StandardScaler.\n",
      "  return self.partial_fit(X, y)\n",
      "/home/beau/anaconda3/lib/python3.6/site-packages/sklearn/base.py:462: DataConversionWarning: Data with input dtype int64, float64 were all converted to float64 by StandardScaler.\n",
      "  return self.fit(X, **fit_params).transform(X)\n"
     ]
    }
   ],
   "source": [
    "outliers_fraction = 0.03\n",
    "\n",
    "# Take the useful features [markdown]\n",
    "data = df_temp[[dataValues, 'month', 'winter', 'spring', 'summer', 'fall']]\n",
    "\n",
    "#Many ML algorithms assume data in a standard distribution, so we scale the vectors\n",
    "min_max_scaler = preprocessing.StandardScaler()\n",
    "np_scaled = min_max_scaler.fit_transform(data)\n",
    "data = pd.DataFrame(np_scaled)\n",
    "\n",
    "# Dimensionality reduction on to a 2D space\n",
    "pca = PCA(n_components=2)\n",
    "data = pca.fit_transform(data)\n",
    "\n",
    "# standardize these 2 new features\n",
    "min_max_scaler = preprocessing.StandardScaler()\n",
    "np_scaled = min_max_scaler.fit_transform(data)\n",
    "data = pd.DataFrame(np_scaled)\n"
   ]
  },
  {
   "cell_type": "code",
   "execution_count": 69,
   "metadata": {},
   "outputs": [
    {
     "data": {
      "image/png": "[encoded data removed]",
      "text/plain": [
       "<Figure size 432x288 with 1 Axes>"
      ]
     },
     "metadata": {
      "needs_background": "dark"
     },
     "output_type": "display_data"
    }
   ],
   "source": [
    "# calculate with different number of centroids to see the loss plot (elbow method)\n",
    "n_cluster = range(1, 10)\n",
    "km = [KMeans(n_clusters=i).fit(data) for i in n_cluster]\n",
    "scores = [km[i].fit(data).score(data) for i in range(len(km))]\n",
    "fig, ax = plt.subplots()\n",
    "ax.plot(n_cluster, scores)\n",
    "plt.show()\n"
   ]
  },
  {
   "cell_type": "code",
   "execution_count": 70,
   "metadata": {},
   "outputs": [
    {
     "data": {
      "text/plain": [
       "2    16875\n",
       "4    12434\n",
       "1    10769\n",
       "3     6267\n",
       "0     4315\n",
       "Name: cluster, dtype: int64"
      ]
     },
     "execution_count": 73,
     "metadata": {},
     "output_type": "execute_result"
    }
   ],
   "source": [
    "#It seems that 5 clusters is the way to go! \n",
    "#Perform k-means clustering on our 2 features\n",
    "#Add to central data frame\n",
    "\n",
    "kmClusterSize=4\n",
    "\n",
    "df_temp['principal_feature1'] = data[0]\n",
    "df_temp['principal_feature2'] = data[1]\n",
    "df_temp['cluster'] = km[kmClusterSize].predict(data)\n",
    "df_temp['cluster'].value_counts()\n"
   ]
  },
  {
   "cell_type": "code",
   "execution_count": 71,
   "metadata": {},
   "outputs": [
    {
     "data": {
      "image/png": "[encoded data removed]",
      "text/plain": [
       "<Figure size 432x288 with 1 Axes>"
      ]
     },
     "metadata": {
      "needs_background": "dark"
     },
     "output_type": "display_data"
    },
    {
     "name": "stderr",
     "output_type": "stream",
     "text": [
      "/home/beau/Energybox/eb_anomalydetection/custom_function.py:11: FutureWarning: set_value is deprecated and will be removed in a future release. Please use .at[] or .iat[] accessors instead\n",
      "  distance.set_value(i, np.linalg.norm(Xa-Xb))\n"
     ]
    }
   ],
   "source": [
    "\n",
    "#plot the different clusters with the 2 main features\n",
    "fig, ax = plt.subplots()\n",
    "colors = {0:'red', 1:'purple', 2:'pink', 3:'yellow', 4: 'green'}\n",
    "ax.scatter(df_temp['principal_feature1'], df_temp['principal_feature2'], c=df_temp[\"cluster\"].apply(lambda x: colors[x]))\n",
    "plt.show()\n",
    "\n",
    "# get the distance between each point and its nearest centroid. The biggest distances are considered as anomaly\n",
    "distance = cf.getDistanceByPoint(data, km[kmClusterSize])\n",
    "number_of_outliers = int(outliers_fraction*len(distance))\n",
    "threshold = distance.nlargest(number_of_outliers).min()\n",
    "# anomaly21 contain the anomaly result of method 2.1 Cluster (0:normal, 1:anomaly) \n",
    "df_temp['anomaly21'] = (distance >= threshold).astype(int)\n"
   ]
  },
  {
   "cell_type": "markdown",
   "metadata": {},
   "source": [
    "Visualizing in cluster view"
   ]
  },
  {
   "cell_type": "code",
   "execution_count": 72,
   "metadata": {},
   "outputs": [
    {
     "data": {
      "image/png": "[encoded data removed]",
      "text/plain": [
       "<Figure size 432x288 with 1 Axes>"
      ]
     },
     "metadata": {
      "needs_background": "dark"
     },
     "output_type": "display_data"
    }
   ],
   "source": [
    "fig, ax = plt.subplots()\n",
    "colors = {0:'blue', 1:'red'}\n",
    "\n",
    "ax.scatter(df_temp['principal_feature1'], df_temp['principal_feature2'], c=df_temp[\"anomaly21\"].apply(lambda x: colors[x]))\n",
    "plt.show()\n"
   ]
  },
  {
   "cell_type": "markdown",
   "metadata": {},
   "source": [
    "Let's visualize the tagged anomaly points throughout time\n",
    "\n",
    "represent time as an int to plot easily"
   ]
  },
  {
   "cell_type": "code",
   "execution_count": 73,
   "metadata": {},
   "outputs": [
    {
     "data": {
      "image/png": "[encoded data removed]",
      "text/plain": [
       "<Figure size 432x288 with 1 Axes>"
      ]
     },
     "metadata": {
      "needs_background": "dark"
     },
     "output_type": "display_data"
    }
   ],
   "source": [
    "df_temp['time_epoch'] = (df_temp[timeStamp].astype(np.int64)/100000000000).astype(np.int64)\n",
    "\n",
    "fig, ax = plt.subplots()\n",
    "\n",
    "a = df_temp.loc[df_temp['anomaly21'] == 1, ['time_epoch', dataValues]] #anomaly\n",
    "\n",
    "ax.plot(df_temp['time_epoch'], df_temp[dataValues], color='blue')\n",
    "ax.scatter(a['time_epoch'],a[dataValues], color='red')\n",
    "plt.show()\n"
   ]
  },
  {
   "cell_type": "markdown",
   "metadata": {},
   "source": [
    "Good at catching obvious anomalies in context of the entire data set\n"
   ]
  },
  {
   "cell_type": "markdown",
   "metadata": {},
   "source": [
    "## 2.2 Clusters + Gaussian\n",
    "#### Use for contextual data and collective anomalies (unordered).\n",
    "We will take the clusters formed by the previous model but instead of computing distance we will use a\n",
    "Elliptic Envelope and tag points outside as anomolies.\n",
    "\n",
    "\n",
    "Use the kmeans clusters in the previous section as categories\n",
    "plot the temperature repartition by category\n"
   ]
  },
  {
   "cell_type": "code",
   "execution_count": 74,
   "metadata": {},
   "outputs": [
    {
     "data": {
      "image/png": "[encoded data removed]",
      "text/plain": [
       "<Figure size 432x288 with 1 Axes>"
      ]
     },
     "metadata": {
      "needs_background": "dark"
     },
     "output_type": "display_data"
    }
   ],
   "source": [
    "df_classes=[]\n",
    "for i in range(0,kmClusterSize+1):\n",
    "    df_class= df_temp.loc[df_temp['cluster'] == i, dataValues]\n",
    "    #visualize the cluster\n",
    "    df_class.hist(bins=32)\n",
    "    #add\n",
    "    df_classes.append(df_class)\n"
   ]
  },
  {
   "cell_type": "code",
   "execution_count": 75,
   "metadata": {},
   "outputs": [
    {
     "data": {
      "image/png": "[encoded data removed]",
      "text/plain": [
       "<Figure size 432x288 with 1 Axes>"
      ]
     },
     "metadata": {
      "needs_background": "dark"
     },
     "output_type": "display_data"
    }
   ],
   "source": [
    "# apply ellipticEnvelope(gaussian distribution) at each categories\n",
    "\n",
    "df_classesAnom=[]\n",
    "fig, ax = plt.subplots()\n",
    "for c in df_classes:\n",
    "    envelope =  EllipticEnvelope(contamination = outliers_fraction) \n",
    "    X_train = c.values.reshape(-1,1)\n",
    "    envelope.fit(X_train)\n",
    "    c = pd.DataFrame(c)\n",
    "    c['deviation'] = envelope.decision_function(X_train)\n",
    "    c['anomaly'] = envelope.predict(X_train)\n",
    "    a0 = c.loc[c['anomaly'] == 1, dataValues]\n",
    "    b0 = c.loc[c['anomaly'] == -1, dataValues]\n",
    "    ax.hist([a0,b0], bins=32, stacked=True, color=['blue', 'red'])\n",
    "    df_classesAnom.append(c)\n",
    "\n"
   ]
  },
  {
   "cell_type": "code",
   "execution_count": 76,
   "metadata": {},
   "outputs": [],
   "source": [
    "# add the data to the main \n",
    "df_class=pd.concat(df_classesAnom)\n",
    "df_temp['anomaly22'] = df_class['anomaly']\n",
    "df_temp['anomaly22'] = np.array(df_temp['anomaly22'] == -1).astype(int) \n"
   ]
  },
  {
   "cell_type": "markdown",
   "metadata": {},
   "source": [
    "Let's visualize the tagged anomaly points throughout time"
   ]
  },
  {
   "cell_type": "code",
   "execution_count": 77,
   "metadata": {},
   "outputs": [
    {
     "data": {
      "image/png": "[encoded data removed]",
      "text/plain": [
       "<Figure size 432x288 with 1 Axes>"
      ]
     },
     "metadata": {
      "needs_background": "dark"
     },
     "output_type": "display_data"
    }
   ],
   "source": [
    "fig, ax = plt.subplots()\n",
    "\n",
    "a = df_temp.loc[df_temp['anomaly22'] == 1, ('time_epoch', dataValues)] #anomaly\n",
    "\n",
    "ax.plot(df_temp['time_epoch'], df_temp[dataValues], color='blue')\n",
    "ax.scatter(a['time_epoch'],a[dataValues], color='red')\n",
    "plt.show()"
   ]
  },
  {
   "cell_type": "markdown",
   "metadata": {},
   "source": [
    "Good at catching paticular spikes within seasonal behavior."
   ]
  },
  {
   "cell_type": "markdown",
   "metadata": {},
   "source": [
    "## 2.4 Markov chains\n",
    "#### Use for  sequential anomalies (ordered)\n",
    "We need to discretize the data points in defined states for the Markov Chain.\n",
    "The Markov chain will calculate the probability of a paticular sequence of these states.\n",
    "For this example we will take dataValues temperature and define 5 levels states depending temperature level.\n",
    "Definition of the states by temperature level:"
   ]
  },
  {
   "cell_type": "code",
   "execution_count": 78,
   "metadata": {},
   "outputs": [],
   "source": [
    "vL = (df_temp[dataValues] <=18).astype(int)\n",
    "L= ((df_temp[dataValues] > 18) & (df_temp[dataValues]<=21)).astype(int)\n",
    "A = ((df_temp[dataValues] > 21) & (df_temp[dataValues]<=24)).astype(int)\n",
    "H = ((df_temp[dataValues] > 24) & (df_temp[dataValues]<=27)).astype(int)\n",
    "vH = (df_temp[dataValues] >27).astype(int)\n",
    "\n",
    "#Parameters for our Markov Model \n",
    "df_mm = vL + 2*L + 3*A + 4*H + 5*vH\n",
    "\n",
    "#size of the pattern window\n",
    "sequenceSize = 10\n",
    "#Probability of anomaly\n",
    "probAnom= .1\n",
    "\n",
    "# getting the anomaly labels for our dataset (evaluating sequence of 5 values and anomaly = less than 20% probable)\n",
    "df_anomaly = cf.markovAnomaly(df_mm, sequenceSize, probAnom)\n",
    "df_anomaly = pd.Series(df_anomaly)\n",
    "\n"
   ]
  },
  {
   "cell_type": "code",
   "execution_count": 79,
   "metadata": {},
   "outputs": [
    {
     "data": {
      "image/png": "[encoded data removed]",
      "text/plain": [
       "<Figure size 432x288 with 1 Axes>"
      ]
     },
     "metadata": {
      "needs_background": "dark"
     },
     "output_type": "display_data"
    }
   ],
   "source": [
    "# add the data to the main \n",
    "df_temp['anomaly23'] = df_anomaly\n",
    "\n",
    "# visualisation of anomaly throughout time (viz 1)\n",
    "fig, ax = plt.subplots()\n",
    "\n",
    "a = df_temp.loc[df_temp['anomaly23'] == 1, ('time_epoch', dataValues)] #anomaly\n",
    "\n",
    "ax.plot(df_temp['time_epoch'], df_temp[dataValues], color='blue')\n",
    "ax.scatter(a['time_epoch'],a[dataValues], color='red')\n",
    "plt.show()\n",
    "\n"
   ]
  },
  {
   "cell_type": "markdown",
   "metadata": {},
   "source": [
    "It seems that the Markov Model is good at detecting abnormalities in the sequence/cycling of temperature.\n",
    "This could be very good for our purposes, but it is harder to test for meaningful anomalies.\n",
    "\n"
   ]
  }
 ],
 "metadata": {
  "file_extension": ".py",
  "kernelspec": {
   "display_name": "Python 3",
   "language": "python",
   "name": "python3"
  },
  "language_info": {
   "codemirror_mode": {
    "name": "ipython",
    "version": 3
   },
   "file_extension": ".py",
   "mimetype": "text/x-python",
   "name": "python",
   "nbconvert_exporter": "python",
   "pygments_lexer": "ipython3",
   "version": "3.6.6"
  },
  "mimetype": "text/x-python",
  "name": "python",
  "npconvert_exporter": "python",
  "pygments_lexer": "ipython3",
  "version": 3
 },
 "nbformat": 4,
 "nbformat_minor": 2
}
